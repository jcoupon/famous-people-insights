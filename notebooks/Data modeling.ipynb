{
 "cells": [
  {
   "cell_type": "markdown",
   "metadata": {},
   "source": [
    "# Data modelling"
   ]
  },
  {
   "cell_type": "markdown",
   "metadata": {},
   "source": [
    "## Preamble"
   ]
  },
  {
   "cell_type": "code",
   "execution_count": 88,
   "metadata": {},
   "outputs": [],
   "source": [
    "import os\n",
    "import sys\n",
    "from importlib import reload\n",
    "\n",
    "import requests\n",
    "import json\n",
    "import wikipedia\n",
    "import selenium\n",
    "import time\n",
    "import urllib\n",
    "import pycountry\n",
    "import re\n",
    "import tweepy\n",
    "\n",
    "from datetime import date, datetime, timedelta\n",
    "from bs4 import BeautifulSoup\n",
    "\n",
    "import unidecode\n",
    "\n",
    "import pandas as pd\n",
    "\n",
    "# add ./python to python path\n",
    "sys.path.insert(0, '../python')\n",
    "\n",
    "import data_acquisition"
   ]
  },
  {
   "cell_type": "markdown",
   "metadata": {},
   "source": [
    "## List of reference PEP (heads of state and show business people)"
   ]
  },
  {
   "cell_type": "code",
   "execution_count": 5,
   "metadata": {},
   "outputs": [],
   "source": [
    "wikipedia.set_lang(\"en\")\n",
    "page = wikipedia.page('List of current heads of state and government')"
   ]
  },
  {
   "cell_type": "code",
   "execution_count": 7,
   "metadata": {},
   "outputs": [],
   "source": [
    "soup = BeautifulSoup(page.html(), \"html.parser\")"
   ]
  },
  {
   "cell_type": "code",
   "execution_count": 55,
   "metadata": {},
   "outputs": [],
   "source": [
    "rows = soup.find('table', {'class': 'wikitable plainrowheaders'}).find_all('tr')\n"
   ]
  },
  {
   "cell_type": "code",
   "execution_count": 135,
   "metadata": {},
   "outputs": [],
   "source": [
    "heads_of_state= {'country': [], 'firstname': [], 'lastname': [], 'country_code': []}\n",
    "for row in rows[1:]:\n",
    "\n",
    "\n",
    "    try:\n",
    "        country_name = row.findAll('th')[0].text\n",
    "        title_name = row.findAll('td')[0].text\n",
    "        country_name = re.findall(r'\\w+', country_name) #re.sub(r'\\n', '', country_name)\n",
    "        \n",
    "        title = title_name.split('–')[0]\n",
    "        name = title_name.split('–')[1]\n",
    "        name = re.sub(r'\\n', '', name)\n",
    "        name = unidecode.unidecode(re.sub(r'\\[.\\]', '', name))\n",
    "        \n",
    "        firstname, lastname = name.split(' ')[1], ' '.join(name.split(' ')[2:])\n",
    "        \n",
    "       \n",
    "        country_name = ' '.join(country_name)\n",
    "        \n",
    "        try:\n",
    "            country_name = 'Gambia' if country_name == 'Gambia The' else country_name\n",
    "            country_name = 'Guinea-Bissau' if country_name == 'Guinea Bissau' else country_name\n",
    "            country_name = 'Iran, Islamic Republic of' if country_name == 'Iran' else country_name\n",
    "            country_name = 'Côte d\\'Ivoire' if country_name == 'Ivory Coast' else country_name\n",
    "            country_name = 'Lao People\\'s Democratic Republic' if country_name == 'Laos' else country_name\n",
    "            country_name = 'Lao People\\'s Democratic Republic' if country_name == 'Macedonia' else country_name\n",
    "\n",
    "\n",
    "\n",
    "\n",
    "\n",
    "                \n",
    "            country_code = pycountry.countries.get(name=country_name).alpha_3\n",
    "        except:\n",
    "            country_code = None\n",
    "            \n",
    "        heads_of_state['country'].append(country_name)\n",
    "        heads_of_state['firstname'].append(firstname)\n",
    "        heads_of_state['lastname'].append(lastname)\n",
    "        heads_of_state['country_code'].append(country_code)\n",
    "\n",
    "        \n",
    "    except:\n",
    "\n",
    "        heads_of_state['country'].append(None)\n",
    "        heads_of_state['firstname'].append(None)\n",
    "        heads_of_state['lastname'].append(None)\n",
    "        heads_of_state['country_code'].append(None)\n",
    "\n",
    "    \n",
    "pd.DataFrame(heads_of_state).to_csv('heads_states.csv', index=False)"
   ]
  },
  {
   "cell_type": "code",
   "execution_count": 128,
   "metadata": {},
   "outputs": [],
   "source": []
  },
  {
   "cell_type": "code",
   "execution_count": 136,
   "metadata": {},
   "outputs": [
    {
     "data": {
      "text/plain": [
       "Country(alpha_2='LA', alpha_3='LAO', name=\"Lao People's Democratic Republic\", numeric='418')"
      ]
     },
     "execution_count": 136,
     "metadata": {},
     "output_type": "execute_result"
    }
   ],
   "source": [
    "pycountry.countries.get(alpha_3='LAO')"
   ]
  }
 ],
 "metadata": {
  "kernelspec": {
   "display_name": "Python 3",
   "language": "python",
   "name": "python3"
  },
  "language_info": {
   "codemirror_mode": {
    "name": "ipython",
    "version": 3
   },
   "file_extension": ".py",
   "mimetype": "text/x-python",
   "name": "python",
   "nbconvert_exporter": "python",
   "pygments_lexer": "ipython3",
   "version": "3.7.0"
  }
 },
 "nbformat": 4,
 "nbformat_minor": 2
}
