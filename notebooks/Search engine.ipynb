{
 "cells": [
  {
   "cell_type": "markdown",
   "metadata": {},
   "source": [
    "# Search engine for getting person insight"
   ]
  },
  {
   "cell_type": "markdown",
   "metadata": {},
   "source": [
    "## Preamble"
   ]
  },
  {
   "cell_type": "code",
   "execution_count": 13,
   "metadata": {},
   "outputs": [],
   "source": [
    "import os\n",
    "import sys\n",
    "from importlib import reload\n",
    "import pandas as pd\n",
    "import pickle\n",
    "\n",
    "# add ./python to python path\n",
    "sys.path.insert(0, '../python')\n",
    "\n",
    "import data_acquisition\n",
    "import data_modeling"
   ]
  },
  {
   "cell_type": "markdown",
   "metadata": {},
   "source": [
    "## Person object"
   ]
  },
  {
   "cell_type": "code",
   "execution_count": 2,
   "metadata": {},
   "outputs": [],
   "source": [
    "# launch web driver with window\n",
    "# to control behavior\n",
    "# TODO: connect to LinkedIn\n",
    "driver = data_acquisition.launch_browser_driver(headless=False)"
   ]
  },
  {
   "cell_type": "code",
   "execution_count": 32,
   "metadata": {},
   "outputs": [
    {
     "name": "stdout",
     "output_type": "stream",
     "text": [
      "firstname : Jeff\n",
      "lastname : Bezos\n",
      "middlename : None\n",
      "nationality : None\n",
      "domicile : None\n",
      "birth_date : None\n",
      "famous : None\n",
      "famous_comment : None\n",
      "profession : None\n",
      "wealth : None\n",
      "info : None\n",
      "linkedin_followers : None\n",
      "twitter_followers : None\n",
      "twitter_verified : None\n",
      "wikipedia_presence : None\n",
      "Google_search_nresults : None\n",
      "Google_news_nresults : None\n",
      "Financial_news_nresults : None\n",
      "nytimes_nresults : None\n"
     ]
    }
   ],
   "source": [
    "person = data_acquisition.Person('Jeff', 'Bezos', driver=driver)\n",
    "person.print_info()"
   ]
  },
  {
   "cell_type": "markdown",
   "metadata": {},
   "source": [
    "## Data acquisition"
   ]
  },
  {
   "cell_type": "code",
   "execution_count": 33,
   "metadata": {},
   "outputs": [
    {
     "name": "stdout",
     "output_type": "stream",
     "text": [
      "Crawling Forbes.com: start.\n",
      "Billionaires list.\n",
      "Crawling: retrying...1/5\n",
      "Crawling Forbes.com: the person was found. Extracting info...\n",
      "Crawling Forbes.com: end\n",
      "Querying wikipedia.com: start.\n",
      "Querying wikipedia.com: end (the person was found).\n",
      "Crawling linkedin.com: start.\n",
      "Crawling linkedin.com: end (the person was found).\n",
      "Querying twitter.com: start.\n",
      "Querying twitter.com: end (the person was found).\n",
      "Crawling google.com: start.\n",
      "Crawling google.com: end.\n",
      "Querying nytimes.com: start.\n",
      "Querying nytimes.com: end.\n"
     ]
    }
   ],
   "source": [
    "# get info\n",
    "person.get_info_from_Forbes()\n",
    "person.get_info_from_Wikipedia()\n",
    "person.get_info_from_LinkedIn()\n",
    "person.get_info_from_Twitter()\n",
    "person.get_info_from_Google()\n",
    "person.get_info_from_nytimes()"
   ]
  },
  {
   "cell_type": "code",
   "execution_count": 34,
   "metadata": {},
   "outputs": [
    {
     "name": "stdout",
     "output_type": "stream",
     "text": [
      "firstname : Jeff\n",
      "lastname : Bezos\n",
      "middlename : None\n",
      "nationality : USA\n",
      "domicile : USA\n",
      "birth_date : 1964-01-12\n",
      "famous : None\n",
      "famous_comment : None\n",
      "profession : \n",
      "wealth : 130900.0\n",
      "info : Jeffrey Preston Bezos (; né Jorgensen; January 12, 1964) is an American technology entrepreneur, investor, and philanthropist. He is the founder, chairman, and chief executive officer (CEO) of Amazon.\n",
      "Bezos was born in Albuquerque, New Mexico and raised in Houston, Texas. He graduated from Princeton University in 1986 with degrees in electrical engineering and computer science. He worked on Wall Street in a variety of related fields from 1986 to early 1994. He founded Amazon in late 1994 on a cross-country road trip from New York City to Seattle. The company began as an online bookstore and has expanded to a variety of products and services, including video and audio streaming. It is currently the world's largest online sales company, as well as the world's largest provider of cloud infrastructure services via its Amazon Web Services arm.\n",
      "Bezos added to his business interests when he founded aerospace company Blue Origin in 2000. A Blue Origin test flight successfully first reached space in 2015 and Blue has plans to begin commercial suborbital human spaceflight as early as late 2018. He purchased The Washington Post in 2013 for US$250 million in cash. Bezos manages other business investments through his venture capital fund, Bezos Expeditions.\n",
      "On July 27, 2017, he became the world's wealthiest person when his estimated net worth increased to just over $90 billion. His wealth surpassed $100 billion for the first time on November 24, and he was formally designated the wealthiest person in the world by Forbes on March 6, 2018, with a net worth of $112 billion. The first centi-billionaire on the Forbes wealth index, he was named the \"richest man in modern history\" after his net worth increased to $150 billion in July 2018.\n",
      "linkedin_followers : None\n",
      "twitter_followers : 700751\n",
      "twitter_verified : True\n",
      "wikipedia_presence : 1\n",
      "Google_search_nresults : 19500000\n",
      "Google_news_nresults : 6520000\n",
      "Financial_news_nresults : 5270\n",
      "nytimes_nresults : 10\n"
     ]
    }
   ],
   "source": [
    "person.print_info()"
   ]
  },
  {
   "cell_type": "markdown",
   "metadata": {},
   "source": [
    "## PEP modeling"
   ]
  },
  {
   "cell_type": "code",
   "execution_count": 35,
   "metadata": {},
   "outputs": [],
   "source": [
    "reload(data_modeling)\n",
    "data_modeling.predict_PEP(person)"
   ]
  },
  {
   "cell_type": "code",
   "execution_count": 36,
   "metadata": {},
   "outputs": [
    {
     "name": "stdout",
     "output_type": "stream",
     "text": [
      "firstname : Jeff\n",
      "lastname : Bezos\n",
      "middlename : None\n",
      "nationality : USA\n",
      "domicile : USA\n",
      "birth_date : 1964-01-12\n",
      "famous : True\n",
      "famous_comment : 1.0\n",
      "profession : \n",
      "wealth : 130900.0\n",
      "info : Jeffrey Preston Bezos (; né Jorgensen; January 12, 1964) is an American technology entrepreneur, investor, and philanthropist. He is the founder, chairman, and chief executive officer (CEO) of Amazon.\n",
      "Bezos was born in Albuquerque, New Mexico and raised in Houston, Texas. He graduated from Princeton University in 1986 with degrees in electrical engineering and computer science. He worked on Wall Street in a variety of related fields from 1986 to early 1994. He founded Amazon in late 1994 on a cross-country road trip from New York City to Seattle. The company began as an online bookstore and has expanded to a variety of products and services, including video and audio streaming. It is currently the world's largest online sales company, as well as the world's largest provider of cloud infrastructure services via its Amazon Web Services arm.\n",
      "Bezos added to his business interests when he founded aerospace company Blue Origin in 2000. A Blue Origin test flight successfully first reached space in 2015 and Blue has plans to begin commercial suborbital human spaceflight as early as late 2018. He purchased The Washington Post in 2013 for US$250 million in cash. Bezos manages other business investments through his venture capital fund, Bezos Expeditions.\n",
      "On July 27, 2017, he became the world's wealthiest person when his estimated net worth increased to just over $90 billion. His wealth surpassed $100 billion for the first time on November 24, and he was formally designated the wealthiest person in the world by Forbes on March 6, 2018, with a net worth of $112 billion. The first centi-billionaire on the Forbes wealth index, he was named the \"richest man in modern history\" after his net worth increased to $150 billion in July 2018.\n",
      "linkedin_followers : None\n",
      "twitter_followers : 700751\n",
      "twitter_verified : True\n",
      "wikipedia_presence : 1\n",
      "Google_search_nresults : 19500000\n",
      "Google_news_nresults : 6520000\n",
      "Financial_news_nresults : 5270\n",
      "nytimes_nresults : 10\n"
     ]
    }
   ],
   "source": [
    "person.print_info()"
   ]
  },
  {
   "cell_type": "code",
   "execution_count": null,
   "metadata": {},
   "outputs": [],
   "source": []
  }
 ],
 "metadata": {
  "kernelspec": {
   "display_name": "Python 3",
   "language": "python",
   "name": "python3"
  },
  "language_info": {
   "codemirror_mode": {
    "name": "ipython",
    "version": 3
   },
   "file_extension": ".py",
   "mimetype": "text/x-python",
   "name": "python",
   "nbconvert_exporter": "python",
   "pygments_lexer": "ipython3",
   "version": "3.7.0"
  }
 },
 "nbformat": 4,
 "nbformat_minor": 2
}
