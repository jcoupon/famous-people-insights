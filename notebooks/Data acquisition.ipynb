{
 "cells": [
  {
   "cell_type": "markdown",
   "metadata": {},
   "source": [
    "# Data acquisition"
   ]
  },
  {
   "cell_type": "markdown",
   "metadata": {},
   "source": [
    "## Preamble"
   ]
  },
  {
   "cell_type": "code",
   "execution_count": 427,
   "metadata": {},
   "outputs": [],
   "source": [
    "import os\n",
    "import sys\n",
    "from importlib import reload\n",
    "\n",
    "\n",
    "import selenium\n",
    "import time\n",
    "import urllib\n",
    "import pycountry\n",
    "import re\n",
    "from datetime import date\n",
    "from bs4 import BeautifulSoup\n",
    "\n",
    "# add ./python to python path\n",
    "sys.path.insert(0, '../python')\n",
    "\n",
    "import data_acquisition"
   ]
  },
  {
   "cell_type": "markdown",
   "metadata": {},
   "source": [
    "## Person object"
   ]
  },
  {
   "cell_type": "code",
   "execution_count": 513,
   "metadata": {},
   "outputs": [],
   "source": [
    "# launch web driver with window\n",
    "# to control behavior\n",
    "driver = data_acquisition.launch_browser_driver(headless=False)"
   ]
  },
  {
   "cell_type": "code",
   "execution_count": 569,
   "metadata": {},
   "outputs": [
    {
     "name": "stdout",
     "output_type": "stream",
     "text": [
      "firstname : Emmanuel\n",
      "lastname : Macron\n",
      "middlename : None\n",
      "nationality : None\n",
      "domicile : None\n",
      "birth_date : None\n",
      "famous : None\n",
      "famous_comment : None\n",
      "profession : None\n",
      "wealth : None\n",
      "info : None\n"
     ]
    }
   ],
   "source": [
    "reload(data_acquisition)\n",
    "# person = data_acquisition.Person('Bernard', 'Arnault', driver=driver)\n",
    "person = data_acquisition.Person('Emmanuel', 'Macron', driver=driver)\n",
    "person.print_info()"
   ]
  },
  {
   "cell_type": "markdown",
   "metadata": {},
   "source": [
    "## Forbes"
   ]
  },
  {
   "cell_type": "markdown",
   "metadata": {},
   "source": [
    "### Usage"
   ]
  },
  {
   "cell_type": "code",
   "execution_count": 570,
   "metadata": {},
   "outputs": [
    {
     "name": "stdout",
     "output_type": "stream",
     "text": [
      "Crawling Forbes.com: start.\n",
      "Crawling Forbes.com: the person was found. Extracting info...\n",
      "Crawling Forbes.com: end\n"
     ]
    }
   ],
   "source": [
    "person.get_info_from_Forbes()"
   ]
  },
  {
   "cell_type": "code",
   "execution_count": 571,
   "metadata": {},
   "outputs": [
    {
     "name": "stdout",
     "output_type": "stream",
     "text": [
      "firstname : Emmanuel\n",
      "lastname : Macron\n",
      "middlename : None\n",
      "nationality : FRA\n",
      "domicile : None\n",
      "birth_date : 1978\n",
      "famous : None\n",
      "famous_comment : None\n",
      "profession : None\n",
      "wealth : None\n",
      "info : Macron is at the helm of Europe's third largest economy after winning a landslide victory in the 2017 election against populist Marine Le Pen.\n",
      "In an interview with Forbes in April, Macron announced he intends to scrap the 30 percent tax on people who try to take their money out of France.\n",
      "Prior to becoming the President, Macron worked as an investment banker for Rothschild & Cie Banque in Paris and was the country's economy minister.\n",
      "In September 2017 Macron signed into law several controversial labor reforms which allow companies more freedom when hiring and firing employees.\n",
      "Macron took a firm stance after Trump announced U.S. will leave the Paris climate accord, noting that the agreement will not be renegotiated.\n"
     ]
    }
   ],
   "source": [
    "person.print_info()"
   ]
  },
  {
   "cell_type": "markdown",
   "metadata": {},
   "source": [
    "### tests"
   ]
  },
  {
   "cell_type": "code",
   "execution_count": 555,
   "metadata": {},
   "outputs": [
    {
     "name": "stdout",
     "output_type": "stream",
     "text": [
      "Crawling Forbes.com: start.\n",
      "Crawling: retrying...1/5\n",
      "Crawling Forbes.com: the person was found. Extracting info...\n",
      "Crawling Forbes.com: end\n",
      "{'nationality': 'USA', 'domicile': 'USA', 'birth_date': 1964, 'wealth': 125800.0, 'info': \"Amazon's chief Jeff Bezos is the first person with a net worth surpassing $150 billion in the 3 decades that Forbes has tracked the richest Americans.\\nHe owns 16% of e-commerce colossus Amazon, which he founded in a garage in Seattle in 1994.\\nBezos attended Princeton and worked at a hedge fund before quitting to sell books online.\\nHis other passion is space travel: His aerospace company, Blue Origin, is developing a reusable rocket that Bezos says will carry passengers.\\nBezos purchased The Washington Post in 2013 for $250 million.\\nIn Sept. 2018 he announced the Bezos Day One Fund, a $2 billion pledge to help homeless families and create Montessori-inspired preschools in the U.S.\"}\n"
     ]
    }
   ],
   "source": [
    "reload(data_acquisition)\n",
    "result = data_acquisition.crawl_Forbes(driver, 'Jeff Bezos')\n",
    "print(result)"
   ]
  },
  {
   "cell_type": "code",
   "execution_count": 564,
   "metadata": {},
   "outputs": [
    {
     "data": {
      "text/plain": [
       "1949"
      ]
     },
     "execution_count": 564,
     "metadata": {},
     "output_type": "execute_result"
    }
   ],
   "source": [
    "birth_date = date.today().year - age\n",
    "birth_date"
   ]
  },
  {
   "cell_type": "markdown",
   "metadata": {},
   "source": [
    "## Wikipedia"
   ]
  },
  {
   "cell_type": "code",
   "execution_count": 330,
   "metadata": {},
   "outputs": [],
   "source": [
    "import wikipedia"
   ]
  },
  {
   "cell_type": "code",
   "execution_count": 411,
   "metadata": {},
   "outputs": [],
   "source": [
    "wikipedia.set_lang(\"en\")\n",
    "person_page = wikipedia.page(\"Manuel Valls\")"
   ]
  },
  {
   "cell_type": "code",
   "execution_count": 412,
   "metadata": {},
   "outputs": [],
   "source": [
    "soup = BeautifulSoup(person_page.html(), \"html.parser\")\n",
    "\n"
   ]
  },
  {
   "cell_type": "code",
   "execution_count": 414,
   "metadata": {},
   "outputs": [],
   "source": [
    "try:\n",
    "    rows = soup.find('table', {'class': 'infobox biography vcard'}).find_all('tr')\n",
    "except:\n",
    "    pass\n",
    "\n",
    "try:\n",
    "    rows = soup.find('table', {'class': 'infobox vcard'}).find_all('tr')\n",
    "except:\n",
    "    pass\n",
    "\n",
    "\n"
   ]
  },
  {
   "cell_type": "code",
   "execution_count": 418,
   "metadata": {},
   "outputs": [],
   "source": [
    "try:\n",
    "    birth_date = soup.find('span',  {'class': 'bday'}).text\n",
    "except:\n",
    "    pass\n",
    "\n",
    "try:\n",
    "    profession = soup.find('td',  {'class': 'role'}).text\n",
    "except:\n",
    "    pass\n"
   ]
  },
  {
   "cell_type": "code",
   "execution_count": 400,
   "metadata": {},
   "outputs": [
    {
     "name": "stdout",
     "output_type": "stream",
     "text": [
      "Tony Hsieh\n",
      "Born\n",
      " (1973-12-12) December 12, 1973 (age 44)[1]Illinois\n",
      "Residence\n",
      "Las Vegas, Nevada, USA\n",
      "Alma mater\n",
      "Harvard University (S.B.)\n",
      "Occupation\n",
      "Internet entrepreneur, venture capitalist\n",
      "Known for\n",
      "CEO of Zappos\n",
      "Home town\n",
      "San Francisco Bay Area\n",
      "Net worth\n",
      " US$ 840 million[2]\n"
     ]
    }
   ],
   "source": [
    "for row in rows:\n",
    "    \n",
    "   \n",
    "    th = row.find('bday')\n",
    "\n",
    "    try:\n",
    "        print(th.get_text())\n",
    "        td = row.find('td').get_text()\n",
    "        print(td)\n",
    "\n",
    "    except:\n",
    "        continue\n",
    "    \n",
    "    #print(row.find('th'))\n",
    "    #print(row.get_text())"
   ]
  },
  {
   "cell_type": "code",
   "execution_count": 112,
   "metadata": {},
   "outputs": [],
   "source": [
    "#Create a function for getting the specified URL\n",
    "def get_results(driver, search_term):\n",
    "    # url = 'https://www.forbes.com/billionaires/list/#version:realtime'\n",
    "    \n",
    "    url = 'https://consent-pref.trustarc.com/?type=forbes&site=forbes.com&action=notice&country=ch&locale=en&behavior=expressed&layout=default_eu&from=https://consent.trustarc.com/'\n",
    "    \n",
    "    driver.get(url)\n",
    "    \n",
    "  \n",
    "    # Wait for 5 seconds\n",
    "    # time.sleep(5)    \n",
    "    \n",
    "    # \n",
    "    # a = driver.find_elements_by_class_name('.pdynamicbutton') #.click\n",
    "    #driver.switch_to.frame(driver.find_element_by_id(\"teconsent\"))\n",
    "    # driver.switch_to.frame(driver.find_element_by_tag_name(\"iframe\"))\n",
    "\n",
    "\n",
    "    \n",
    "    \n",
    "    #driver.switch_to.default_content()\n",
    "    # a = driver.find_elements_by_class_name() #.click\n",
    "\n",
    "\n",
    "    print(a)\n",
    "\n",
    "    #return\n",
    "    \n",
    "    # driver.find_element_by_link_text('I Agree, Continue to Site').click\n",
    "\n",
    "    try:\n",
    "        driver.find_element_by_class_name('call').click\n",
    "    except:\n",
    "        pass\n",
    "    \n",
    "    driver.get_screenshot_as_file('main-page.png')\n"
   ]
  },
  {
   "cell_type": "code",
   "execution_count": 113,
   "metadata": {},
   "outputs": [
    {
     "ename": "NameError",
     "evalue": "name 'a' is not defined",
     "output_type": "error",
     "traceback": [
      "\u001b[0;31m---------------------------------------------------------------------------\u001b[0m",
      "\u001b[0;31mNameError\u001b[0m                                 Traceback (most recent call last)",
      "\u001b[0;32m<ipython-input-113-2c89d411d845>\u001b[0m in \u001b[0;36m<module>\u001b[0;34m()\u001b[0m\n\u001b[0;32m----> 1\u001b[0;31m \u001b[0mget_results\u001b[0m\u001b[0;34m(\u001b[0m\u001b[0mdriver\u001b[0m\u001b[0;34m,\u001b[0m \u001b[0;34m'Robert Redford'\u001b[0m\u001b[0;34m)\u001b[0m\u001b[0;34m\u001b[0m\u001b[0m\n\u001b[0m",
      "\u001b[0;32m<ipython-input-112-ea04f2dacbe3>\u001b[0m in \u001b[0;36mget_results\u001b[0;34m(driver, search_term)\u001b[0m\n\u001b[1;32m     23\u001b[0m \u001b[0;34m\u001b[0m\u001b[0m\n\u001b[1;32m     24\u001b[0m \u001b[0;34m\u001b[0m\u001b[0m\n\u001b[0;32m---> 25\u001b[0;31m     \u001b[0mprint\u001b[0m\u001b[0;34m(\u001b[0m\u001b[0ma\u001b[0m\u001b[0;34m)\u001b[0m\u001b[0;34m\u001b[0m\u001b[0m\n\u001b[0m\u001b[1;32m     26\u001b[0m \u001b[0;34m\u001b[0m\u001b[0m\n\u001b[1;32m     27\u001b[0m     \u001b[0;31m#return\u001b[0m\u001b[0;34m\u001b[0m\u001b[0;34m\u001b[0m\u001b[0m\n",
      "\u001b[0;31mNameError\u001b[0m: name 'a' is not defined"
     ]
    }
   ],
   "source": [
    "get_results(driver, 'Robert Redford')"
   ]
  },
  {
   "cell_type": "code",
   "execution_count": null,
   "metadata": {},
   "outputs": [],
   "source": []
  }
 ],
 "metadata": {
  "kernelspec": {
   "display_name": "Python 3",
   "language": "python",
   "name": "python3"
  },
  "language_info": {
   "codemirror_mode": {
    "name": "ipython",
    "version": 3
   },
   "file_extension": ".py",
   "mimetype": "text/x-python",
   "name": "python",
   "nbconvert_exporter": "python",
   "pygments_lexer": "ipython3",
   "version": "3.7.0"
  }
 },
 "nbformat": 4,
 "nbformat_minor": 2
}
