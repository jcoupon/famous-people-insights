{
 "cells": [
  {
   "cell_type": "markdown",
   "metadata": {},
   "source": [
    "# Data acquisition"
   ]
  },
  {
   "cell_type": "markdown",
   "metadata": {},
   "source": [
    "## Preamble"
   ]
  },
  {
   "cell_type": "code",
   "execution_count": 1085,
   "metadata": {},
   "outputs": [],
   "source": [
    "import os\n",
    "import sys\n",
    "from importlib import reload\n",
    "\n",
    "import requests\n",
    "import json\n",
    "import wikipedia\n",
    "import selenium\n",
    "import time\n",
    "import urllib\n",
    "import pycountry\n",
    "import re\n",
    "import tweepy\n",
    "\n",
    "from datetime import date, datetime, timedelta\n",
    "from bs4 import BeautifulSoup\n",
    "\n",
    "# add ./python to python path\n",
    "sys.path.insert(0, '../python')\n",
    "\n",
    "import data_acquisition"
   ]
  },
  {
   "cell_type": "markdown",
   "metadata": {},
   "source": [
    "## Person object"
   ]
  },
  {
   "cell_type": "code",
   "execution_count": 513,
   "metadata": {},
   "outputs": [],
   "source": [
    "# launch web driver with window\n",
    "# to control behavior\n",
    "driver = data_acquisition.launch_browser_driver(headless=False)"
   ]
  },
  {
   "cell_type": "code",
   "execution_count": 575,
   "metadata": {},
   "outputs": [
    {
     "name": "stdout",
     "output_type": "stream",
     "text": [
      "firstname : Emmanuel\n",
      "lastname : Macron\n",
      "middlename : None\n",
      "nationality : None\n",
      "domicile : None\n",
      "birth_date : None\n",
      "famous : None\n",
      "famous_comment : None\n",
      "profession : None\n",
      "wealth : None\n",
      "info : None\n"
     ]
    }
   ],
   "source": [
    "reload(data_acquisition)\n",
    "# person = data_acquisition.Person('Bernard', 'Arnault', driver=driver)\n",
    "person = data_acquisition.Person('Emmanuel', 'Macron', driver=driver)\n",
    "person.print_info()"
   ]
  },
  {
   "cell_type": "markdown",
   "metadata": {},
   "source": [
    "## Summary"
   ]
  },
  {
   "cell_type": "code",
   "execution_count": null,
   "metadata": {},
   "outputs": [
    {
     "name": "stdout",
     "output_type": "stream",
     "text": [
      "Crawling Forbes.com: start.\n",
      "Billionaires listCrawling: retrying...1/5\n",
      "Crawling: retrying...2/5\n",
      "Crawling: retrying...3/5\n",
      "Crawling: retrying...4/5\n"
     ]
    }
   ],
   "source": [
    "# place here final code\n",
    "\n",
    "reload(data_acquisition)\n",
    "person = data_acquisition.Person('Ashraf', 'Ghani', driver=driver)\n",
    "\n",
    "person.get_info_from_Forbes()\n",
    "person.get_info_from_Wikipedia()\n",
    "person.get_info_from_LinkedIn()\n",
    "person.get_info_from_Twitter()\n",
    "person.get_info_from_Google()\n",
    "person.get_info_from_nytimes()"
   ]
  },
  {
   "cell_type": "code",
   "execution_count": 1136,
   "metadata": {},
   "outputs": [
    {
     "name": "stdout",
     "output_type": "stream",
     "text": [
      "firstname : Donald\n",
      "lastname : Trump\n",
      "middlename : John \n",
      "nationality : USA\n",
      "domicile : USA\n",
      "birth_date : 1946-06-14\n",
      "famous : None\n",
      "famous_comment : None\n",
      "profession : Executive Vice President,University of Pennsylvania - The Wharton School,The Hill School\n",
      "wealth : 3100.0\n",
      "info : Donald John Trump (born June 14, 1946) is the 45th and current President of the United States. Before entering politics, he was a businessman and television personality.\n",
      "Trump was born and raised in the New York City borough of Queens. He received an economics degree from the Wharton School of the University of Pennsylvania and was appointed president of his family's real estate business in 1971, renamed it The Trump Organization, and expanded it from Queens and Brooklyn into Manhattan. The company built or renovated skyscrapers, hotels, casinos, and golf courses. Trump later started various side ventures, including licensing his name for real estate and consumer products. He managed the company until his 2017 inauguration. He co-authored several books, including The Art of the Deal. He owned the Miss Universe and Miss USA beauty pageants from 1996 to 2015, and he produced and hosted the reality television show, The Apprentice, from 2003 to 2015. Forbes estimates his net worth to be $3.1 billion.\n",
      "Trump entered the 2016 presidential race as a Republican and defeated sixteen opponents in the primaries. Commentators described his political positions as populist, protectionist, and nationalist. His campaign received extensive free media coverage; many of his public statements were controversial or false. Trump was elected president in a surprise victory over Democratic nominee Hillary Clinton. He became the oldest and wealthiest person ever to assume the presidency, the first without prior military or government service, and the fifth to have won the election while losing the popular vote. His election and policies have sparked numerous protests. Many of his comments and actions have been perceived as racially charged or racist.\n",
      "During his presidency, Trump ordered a travel ban on citizens from several Muslim-majority countries, citing security concerns; after legal challenges, the Supreme Court upheld the policy's third revision. He signed tax cut legislation which cut tax rates for individuals and businesses and also rescinded the individual insurance mandate provision of the Affordable Care Act and opened the Arctic Refuge for oil drilling. He enacted a partial repeal of the Dodd-Frank Act that had imposed stricter constraints on banks in the aftermath of the 2008 financial crisis. He pursued his America First agenda in foreign policy, withdrawing the U.S. from the Trans-Pacific Partnership trade negotiations, the Paris Agreement on climate change, and the Iran nuclear deal. He recognized Jerusalem as the capital of Israel, imposed import tariffs on various goods, triggering a trade war with China, and negotiated with North Korea with the aim of denuclearization. He nominated two justices to the Supreme Court, Neil Gorsuch and Brett Kavanaugh.\n",
      "After Trump dismissed FBI Director James Comey, the Justice Department appointed Robert Mueller as Special Counsel to investigate \"any links and/or coordination\" between the Trump campaign and the Russian government in its election interference. Trump has repeatedly denied accusations of collusion and obstruction of justice, calling the investigation a politically motivated \"witch hunt\".\n",
      "linkedin_followers : None\n",
      "twitter_followers : 55935327\n",
      "twitter_verified : True\n",
      "wikipedia_presence : 1\n",
      "Google_search_nresults : 384000000\n",
      "Google_news_nresults : 200000000\n",
      "Financial_news_nresults : 154000\n",
      "nytimes_nresults : 10\n"
     ]
    }
   ],
   "source": [
    "person.print_info()"
   ]
  },
  {
   "cell_type": "markdown",
   "metadata": {},
   "source": [
    "## Forbes"
   ]
  },
  {
   "cell_type": "markdown",
   "metadata": {},
   "source": [
    "### Usage"
   ]
  },
  {
   "cell_type": "code",
   "execution_count": 576,
   "metadata": {},
   "outputs": [
    {
     "name": "stdout",
     "output_type": "stream",
     "text": [
      "Crawling Forbes.com: start.\n",
      "Crawling: retrying...1/5\n",
      "Crawling: retrying...2/5\n",
      "Crawling: retrying...3/5\n",
      "Crawling: retrying...4/5\n",
      "Crawling: retrying...5/5\n",
      "The Forbes.com crawling failed. The person might not exist in the billionaires ranking. Or if you suspect this is a crawling issue, rerun with 'headless'=False to debug.\n",
      "Crawling Forbes.com: start.\n",
      "Crawling Forbes.com: the person was found. Extracting info...\n",
      "Crawling Forbes.com: end\n"
     ]
    }
   ],
   "source": [
    "person.get_info_from_Forbes()"
   ]
  },
  {
   "cell_type": "code",
   "execution_count": 577,
   "metadata": {},
   "outputs": [
    {
     "name": "stdout",
     "output_type": "stream",
     "text": [
      "firstname : Emmanuel\n",
      "lastname : Macron\n",
      "middlename : None\n",
      "nationality : FRA\n",
      "domicile : None\n",
      "birth_date : 1978\n",
      "famous : None\n",
      "famous_comment : None\n",
      "profession : None\n",
      "wealth : None\n",
      "info : Macron is at the helm of Europe's third largest economy after winning a landslide victory in the 2017 election against populist Marine Le Pen.\n",
      "In an interview with Forbes in April, Macron announced he intends to scrap the 30 percent tax on people who try to take their money out of France.\n",
      "Prior to becoming the President, Macron worked as an investment banker for Rothschild & Cie Banque in Paris and was the country's economy minister.\n",
      "In September 2017 Macron signed into law several controversial labor reforms which allow companies more freedom when hiring and firing employees.\n",
      "Macron took a firm stance after Trump announced U.S. will leave the Paris climate accord, noting that the agreement will not be renegotiated.\n"
     ]
    }
   ],
   "source": [
    "person.print_info()"
   ]
  },
  {
   "cell_type": "markdown",
   "metadata": {},
   "source": [
    "### Tests"
   ]
  },
  {
   "cell_type": "code",
   "execution_count": 555,
   "metadata": {},
   "outputs": [
    {
     "name": "stdout",
     "output_type": "stream",
     "text": [
      "Crawling Forbes.com: start.\n",
      "Crawling: retrying...1/5\n",
      "Crawling Forbes.com: the person was found. Extracting info...\n",
      "Crawling Forbes.com: end\n",
      "{'nationality': 'USA', 'domicile': 'USA', 'birth_date': 1964, 'wealth': 125800.0, 'info': \"Amazon's chief Jeff Bezos is the first person with a net worth surpassing $150 billion in the 3 decades that Forbes has tracked the richest Americans.\\nHe owns 16% of e-commerce colossus Amazon, which he founded in a garage in Seattle in 1994.\\nBezos attended Princeton and worked at a hedge fund before quitting to sell books online.\\nHis other passion is space travel: His aerospace company, Blue Origin, is developing a reusable rocket that Bezos says will carry passengers.\\nBezos purchased The Washington Post in 2013 for $250 million.\\nIn Sept. 2018 he announced the Bezos Day One Fund, a $2 billion pledge to help homeless families and create Montessori-inspired preschools in the U.S.\"}\n"
     ]
    }
   ],
   "source": [
    "reload(data_acquisition)\n",
    "result = data_acquisition.crawl_Forbes(driver, 'Jeff Bezos')\n",
    "print(result)"
   ]
  },
  {
   "cell_type": "code",
   "execution_count": 564,
   "metadata": {},
   "outputs": [
    {
     "data": {
      "text/plain": [
       "1949"
      ]
     },
     "execution_count": 564,
     "metadata": {},
     "output_type": "execute_result"
    }
   ],
   "source": [
    "birth_date = date.today().year - age\n",
    "birth_date"
   ]
  },
  {
   "cell_type": "markdown",
   "metadata": {},
   "source": [
    "## Wikipedia"
   ]
  },
  {
   "cell_type": "markdown",
   "metadata": {},
   "source": [
    "### Usage"
   ]
  },
  {
   "cell_type": "code",
   "execution_count": 764,
   "metadata": {},
   "outputs": [],
   "source": [
    "reload(data_acquisition)\n",
    "# person = data_acquisition.Person('Bernard', 'Arnault', driver=driver)\n",
    "person = data_acquisition.Person('Emmanuel', 'Macron', driver=driver)\n",
    "# person.print_info()"
   ]
  },
  {
   "cell_type": "code",
   "execution_count": 762,
   "metadata": {},
   "outputs": [],
   "source": [
    "person.get_info_from_Wikipedia()"
   ]
  },
  {
   "cell_type": "code",
   "execution_count": 763,
   "metadata": {},
   "outputs": [
    {
     "name": "stdout",
     "output_type": "stream",
     "text": [
      "firstname : Emmanuel\n",
      "lastname : Macron\n",
      "middlename : Jean-Michel Frédéric \n",
      "nationality : None\n",
      "domicile : None\n",
      "birth_date : 1977-12-21\n",
      "famous : None\n",
      "famous_comment : None\n",
      "profession : None\n",
      "wealth : None\n",
      "info : Emmanuel Jean-Michel Frédéric Macron (French pronunciation: ​[ɛmanɥɛl makʁɔ̃]; born 21 December 1977) is a French politician currently serving as President of France since 14 May 2017. He previously served as a Minister of the Economy, Industry and Digital Affairs from 2014 to 2016.\n",
      "Macron was born in Amiens and studied philosophy at Paris Nanterre University, completed a Master's of Public Affairs at Sciences Po and graduated from the École nationale d'administration (ENA) in 2004. He worked as a senior civil servant at the Inspectorate General of Finances and later became an investment banker at Rothschild & Cie Banque.\n",
      "Macron was appointed Deputy Secretary General to the President by François Hollande in May 2012. He was appointed Minister of Economy, Industry and Digital Affairs in August 2014 under the Second Valls government, where he pushed through business-friendly reforms. He resigned in August 2016 to launch a bid in the 2017 presidential election. After being a member of the Socialist Party from 2006 to 2009, Macron ran in the election under the banner of a centrist political movement he founded in April that year, En marche.\n",
      "He won the election on 7 May 2017 with 66.1% of the vote in the second round. At age 39, Macron became the youngest President of France in history and appointed Édouard Philippe to be Prime Minister. In the June 2017 legislative elections, Macron's party, renamed \"La République en marche\" (LREM), together with its ally the Democratic Movement (MoDem), secured a majority in the National Assembly.\n"
     ]
    }
   ],
   "source": [
    "person.print_info()"
   ]
  },
  {
   "cell_type": "markdown",
   "metadata": {},
   "source": [
    "### Tests"
   ]
  },
  {
   "cell_type": "code",
   "execution_count": 760,
   "metadata": {},
   "outputs": [],
   "source": [
    "search_str = 'Emmanuel Macron'\n",
    "person_page = wikipedia.page(search_str)\n",
    "soup = BeautifulSoup(person_page.html(), \"html.parser\")\n",
    "# soup"
   ]
  },
  {
   "cell_type": "code",
   "execution_count": 756,
   "metadata": {},
   "outputs": [
    {
     "data": {
      "text/plain": [
       "'Jean-Michel Frédéric '"
      ]
     },
     "execution_count": 756,
     "metadata": {},
     "output_type": "execute_result"
    }
   ],
   "source": [
    "re.findall(r'(?:{0}\\s+)((\\S+\\s+){{1,4}})(?:{1})'.format('Emmanuel', 'Macron'), soup.text)[0][0]   #[0].split(' ')[1]"
   ]
  },
  {
   "cell_type": "code",
   "execution_count": 767,
   "metadata": {},
   "outputs": [
    {
     "name": "stdout",
     "output_type": "stream",
     "text": [
      "firstname : Jean\n",
      "lastname : Coupon\n",
      "middlename : None\n",
      "nationality : None\n",
      "domicile : None\n",
      "birth_date : None\n",
      "famous : None\n",
      "famous_comment : None\n",
      "profession : None\n",
      "wealth : None\n",
      "info : None\n"
     ]
    }
   ],
   "source": [
    "# unknown person\n",
    "reload(data_acquisition)\n",
    "person = data_acquisition.Person('Jean', 'Coupon', driver=driver)\n",
    "person.get_info_from_Wikipedia()\n",
    "person.print_info()"
   ]
  },
  {
   "cell_type": "markdown",
   "metadata": {},
   "source": [
    "## LinkedIn"
   ]
  },
  {
   "cell_type": "markdown",
   "metadata": {},
   "source": [
    "### Usage"
   ]
  },
  {
   "cell_type": "code",
   "execution_count": 872,
   "metadata": {},
   "outputs": [],
   "source": [
    "reload(data_acquisition)\n",
    "person = data_acquisition.Person('Jean', 'Coupon', driver=driver)\n",
    "# person.print_info()"
   ]
  },
  {
   "cell_type": "code",
   "execution_count": 873,
   "metadata": {},
   "outputs": [],
   "source": [
    "person.get_info_from_LinkedIn()"
   ]
  },
  {
   "cell_type": "code",
   "execution_count": 874,
   "metadata": {},
   "outputs": [
    {
     "name": "stdout",
     "output_type": "stream",
     "text": [
      "firstname : Jean\n",
      "lastname : Coupon\n",
      "middlename : None\n",
      "nationality : None\n",
      "domicile : CHE\n",
      "birth_date : None\n",
      "famous : None\n",
      "famous_comment : None\n",
      "profession : Data Scientist,Research Associate,Postdoctoral Researcher\n",
      "wealth : None\n",
      "info : None\n",
      "linkedin_followers : 1255\n"
     ]
    }
   ],
   "source": [
    "person.print_info()"
   ]
  },
  {
   "cell_type": "markdown",
   "metadata": {},
   "source": [
    "### Tests"
   ]
  },
  {
   "cell_type": "code",
   "execution_count": 847,
   "metadata": {},
   "outputs": [
    {
     "data": {
      "text/plain": [
       "{'profession': 'Consultant//Consultant//IT system Architect'}"
      ]
     },
     "execution_count": 847,
     "metadata": {},
     "output_type": "execute_result"
    }
   ],
   "source": [
    "reload(data_acquisition)\n",
    "result = data_acquisition.crawl_linkedin(driver, 'Jean Coupon')\n",
    "result"
   ]
  },
  {
   "cell_type": "code",
   "execution_count": 839,
   "metadata": {
    "scrolled": true
   },
   "outputs": [
    {
     "data": {
      "text/plain": [
       "[]"
      ]
     },
     "execution_count": 839,
     "metadata": {},
     "output_type": "execute_result"
    }
   ],
   "source": [
    "driver.find_elements_by_xpath( \"//ul[@class='pv-profile-section__section-info section-info pv-profile-section__section-info--has-more']//h3\")"
   ]
  },
  {
   "cell_type": "code",
   "execution_count": 860,
   "metadata": {},
   "outputs": [
    {
     "data": {
      "text/plain": [
       "' France'"
      ]
     },
     "execution_count": 860,
     "metadata": {},
     "output_type": "execute_result"
    }
   ],
   "source": [
    "country_name = data_acquisition.persistent_find(driver, '//h3').split(',')[-1][1:]\n",
    "result['domicile'] = pycountry.countries.get(name = country_name).alpha_3\n",
    "\n",
    "country"
   ]
  },
  {
   "cell_type": "code",
   "execution_count": 861,
   "metadata": {},
   "outputs": [
    {
     "data": {
      "text/plain": [
       "'CHE'"
      ]
     },
     "execution_count": 861,
     "metadata": {},
     "output_type": "execute_result"
    }
   ],
   "source": [
    "result['domicile']"
   ]
  },
  {
   "cell_type": "markdown",
   "metadata": {},
   "source": [
    "## Twitter"
   ]
  },
  {
   "cell_type": "markdown",
   "metadata": {},
   "source": [
    "### Usage"
   ]
  },
  {
   "cell_type": "code",
   "execution_count": 938,
   "metadata": {},
   "outputs": [],
   "source": [
    "reload(data_acquisition)\n",
    "person = data_acquisition.Person('Jeff', 'Bezos', driver=driver)"
   ]
  },
  {
   "cell_type": "code",
   "execution_count": 939,
   "metadata": {},
   "outputs": [],
   "source": [
    "person.get_info_from_Twitter()"
   ]
  },
  {
   "cell_type": "code",
   "execution_count": 940,
   "metadata": {},
   "outputs": [
    {
     "name": "stdout",
     "output_type": "stream",
     "text": [
      "firstname : Jeff\n",
      "lastname : Bezos\n",
      "middlename : None\n",
      "nationality : None\n",
      "domicile : None\n",
      "birth_date : None\n",
      "famous : None\n",
      "famous_comment : None\n",
      "profession : None\n",
      "wealth : None\n",
      "info : None\n",
      "linkedin_followers : None\n",
      "twitter_followers : 699524\n"
     ]
    }
   ],
   "source": [
    "person.print_info()"
   ]
  },
  {
   "cell_type": "markdown",
   "metadata": {},
   "source": [
    "### Tests"
   ]
  },
  {
   "cell_type": "code",
   "execution_count": 944,
   "metadata": {},
   "outputs": [],
   "source": [
    "with open(os.path.join(os.environ['HOME'], 'credentials', 'twitter.json')) as file_in:\n",
    "    credentials = json.load(file_in)"
   ]
  },
  {
   "cell_type": "code",
   "execution_count": 945,
   "metadata": {},
   "outputs": [],
   "source": [
    "\n",
    "auth = tweepy.OAuthHandler(credentials['consumer_key'], credentials['consumer_secret'])\n",
    "auth.set_access_token(credentials['access_token'],credentials['access_token_secret'])\n",
    "\n",
    "api = tweepy.API(auth)"
   ]
  },
  {
   "cell_type": "code",
   "execution_count": 952,
   "metadata": {},
   "outputs": [
    {
     "name": "stdout",
     "output_type": "stream",
     "text": [
      "False\n",
      "Jean Coupon\n",
      "Nyon, Switzerland\n",
      "jeancoupon\n",
      "0\n"
     ]
    }
   ],
   "source": [
    "users = api.search_users('Jean Coupon')\n",
    "\n",
    "for user in users:\n",
    "    print(user.verified)\n",
    "    print(user.name)\n",
    "    print(user.location)\n",
    "    print(user.screen_name)\n",
    "    print(user.followers_count)\n",
    "    \n",
    "    break\n"
   ]
  },
  {
   "cell_type": "markdown",
   "metadata": {},
   "source": [
    "## Google"
   ]
  },
  {
   "cell_type": "markdown",
   "metadata": {},
   "source": [
    "### Usage"
   ]
  },
  {
   "cell_type": "code",
   "execution_count": 1038,
   "metadata": {},
   "outputs": [],
   "source": [
    "reload(data_acquisition)\n",
    "person = data_acquisition.Person('Norodom', 'Sihamoni', driver=driver)"
   ]
  },
  {
   "cell_type": "code",
   "execution_count": 1039,
   "metadata": {},
   "outputs": [],
   "source": [
    "person.get_info_from_Google()"
   ]
  },
  {
   "cell_type": "code",
   "execution_count": 1040,
   "metadata": {},
   "outputs": [
    {
     "name": "stdout",
     "output_type": "stream",
     "text": [
      "firstname : Norodom\n",
      "lastname : Sihamoni\n",
      "middlename : None\n",
      "nationality : None\n",
      "domicile : None\n",
      "birth_date : None\n",
      "famous : None\n",
      "famous_comment : None\n",
      "profession : None\n",
      "wealth : None\n",
      "info : None\n",
      "linkedin_followers : None\n",
      "twitter_followers : None\n",
      "twitter_verified : None\n",
      "wikipedia_presence : None\n",
      "Google_search_nresults : 238000\n",
      "Google_news_nresults : 8170\n",
      "Financial_news_nresults : 7\n"
     ]
    }
   ],
   "source": [
    "person.print_info()"
   ]
  },
  {
   "cell_type": "markdown",
   "metadata": {},
   "source": [
    "### Tests"
   ]
  },
  {
   "cell_type": "code",
   "execution_count": 1015,
   "metadata": {},
   "outputs": [],
   "source": [
    "search_str = '\\\"Norodom Sihamoni\\\"'\n",
    "# news\n",
    "base_url = 'http://www.google.com/search?&tbm=nws&hl=en&q='\n",
    "# base_url = 'http://www.google.com/search?hl=en&q='\n",
    "driver.get(base_url+urllib.parse.quote(search_str))"
   ]
  },
  {
   "cell_type": "code",
   "execution_count": 1016,
   "metadata": {},
   "outputs": [
    {
     "data": {
      "text/plain": [
       "61200"
      ]
     },
     "execution_count": 1016,
     "metadata": {},
     "output_type": "execute_result"
    }
   ],
   "source": [
    "resultStats = data_acquisition.persistent_find(driver, \"//div[@id='resultStats']\")\n",
    "int(''.join(''.join(re.findall(r'\\d+', resultStats)[:-2])))"
   ]
  },
  {
   "cell_type": "code",
   "execution_count": 1018,
   "metadata": {},
   "outputs": [],
   "source": [
    "sites = ['bilan.ch', 'challenges.fr', 'forbes.com', 'ft.com', 'economist.com']\n",
    "\n",
    "search_str_financial = search_str + ' ' +' OR '.join(['site:'+s for s in sites])\n",
    "\n",
    "driver.get(base_url+urllib.parse.quote(search_str_financial))"
   ]
  },
  {
   "cell_type": "code",
   "execution_count": 1019,
   "metadata": {},
   "outputs": [
    {
     "data": {
      "text/plain": [
       "2260"
      ]
     },
     "execution_count": 1019,
     "metadata": {},
     "output_type": "execute_result"
    }
   ],
   "source": [
    "resultStats = data_acquisition.persistent_find(driver, \"//div[@id='resultStats']\")\n",
    "int(''.join(''.join(re.findall(r'\\d+', resultStats)[:-2])))"
   ]
  },
  {
   "cell_type": "markdown",
   "metadata": {},
   "source": [
    "## New York Times"
   ]
  },
  {
   "cell_type": "markdown",
   "metadata": {},
   "source": [
    "### Usage"
   ]
  },
  {
   "cell_type": "code",
   "execution_count": 1124,
   "metadata": {},
   "outputs": [],
   "source": [
    "reload(data_acquisition)\n",
    "person = data_acquisition.Person('Norodom', 'Sihamoni', driver=driver)"
   ]
  },
  {
   "cell_type": "code",
   "execution_count": 1127,
   "metadata": {},
   "outputs": [],
   "source": [
    "person.get_info_from_Wikipedia()\n",
    "person.get_info_from_Twitter()\n",
    "person.get_info_from_Google()\n",
    "person.get_info_from_nytimes()"
   ]
  },
  {
   "cell_type": "code",
   "execution_count": 1132,
   "metadata": {},
   "outputs": [
    {
     "name": "stdout",
     "output_type": "stream",
     "text": [
      "firstname : Norodom\n",
      "lastname : Sihamoni\n",
      "middlename : None\n",
      "nationality : None\n",
      "domicile : None\n",
      "birth_date : 1953-05-14\n",
      "famous : None\n",
      "famous_comment : None\n",
      "profession : None\n",
      "wealth : None\n",
      "info : Norodom Sihamoni (Khmer: នរោត្តម សីហមុនី; born 14 May 1953) is the King of Cambodia, which he became on 14 October 2004. He is the eldest son of King Norodom Sihanouk and Queen Norodom Monineath. He was Cambodia's ambassador to UNESCO and named by a nine-member throne council to become the next king after his father Norodom Sihanouk abdicated in 2004. Before ascending the throne, Sihamoni was best known for his work as a cultural ambassador in Europe and as a classical dance instructor, a specialization he graduated from in Prague, Czech Republic.\n",
      "The most prominent issue against the king is his laissez-faire policy towards Hun Sen's dictatorship in his own kingdom. Critics have called Norodom Sihamoni a \"puppet monarch\" since his ascension in 2004.\n",
      "linkedin_followers : None\n",
      "twitter_followers : 0\n",
      "twitter_verified : False\n",
      "wikipedia_presence : 1\n",
      "Google_search_nresults : 238000\n",
      "Google_news_nresults : 7960\n",
      "Financial_news_nresults : 7\n",
      "nytimes_nresults : 1\n"
     ]
    }
   ],
   "source": [
    "person.print_info()"
   ]
  },
  {
   "cell_type": "markdown",
   "metadata": {},
   "source": [
    "### Tests"
   ]
  },
  {
   "cell_type": "code",
   "execution_count": 1043,
   "metadata": {},
   "outputs": [
    {
     "name": "stdout",
     "output_type": "stream",
     "text": [
      "200\n",
      "b'{\"iss_position\": {\"latitude\": \"29.9475\", \"longitude\": \"84.1842\"}, \"timestamp\": 1543230639, \"message\": \"success\"}'\n",
      "{'iss_position': {'latitude': '29.9475', 'longitude': '84.1842'}, 'timestamp': 1543230639, 'message': 'success'}\n"
     ]
    }
   ],
   "source": [
    "# number of NY articles in last 12 months: 0-10 or 10+\n",
    "# limited to 1000 requests/day"
   ]
  },
  {
   "cell_type": "code",
   "execution_count": 1109,
   "metadata": {},
   "outputs": [
    {
     "data": {
      "text/plain": [
       "'&begin_date=20171126'"
      ]
     },
     "execution_count": 1109,
     "metadata": {},
     "output_type": "execute_result"
    }
   ],
   "source": [
    "begin_date = '&begin_date={}'.format((datetime.now() - timedelta(days=365)).strftime('%Y%m%d'))\n",
    "begin_date"
   ]
  },
  {
   "cell_type": "code",
   "execution_count": 1049,
   "metadata": {},
   "outputs": [],
   "source": [
    "base_url = 'https://api.nytimes.com/svc/search/v2/articlesearch.json'"
   ]
  },
  {
   "cell_type": "code",
   "execution_count": 1050,
   "metadata": {},
   "outputs": [],
   "source": [
    "with open(os.path.join(os.environ['HOME'], 'credentials', 'nytimes.json')) as file_in:\n",
    "    credentials = json.load(file_in)"
   ]
  },
  {
   "cell_type": "code",
   "execution_count": 1078,
   "metadata": {},
   "outputs": [],
   "source": [
    "search_str = base_url+'?api-key='+credentials['api-key']+'&begin_date=20171126'+'&q='+urllib.parse.quote('Norodom Sihamoni')"
   ]
  },
  {
   "cell_type": "code",
   "execution_count": 1079,
   "metadata": {},
   "outputs": [],
   "source": [
    "response = requests.get(search_str)"
   ]
  },
  {
   "cell_type": "code",
   "execution_count": 1080,
   "metadata": {},
   "outputs": [],
   "source": [
    "for doc in response.json()['response']['docs']:\n",
    "    print(doc['web_url'])"
   ]
  }
 ],
 "metadata": {
  "kernelspec": {
   "display_name": "Python 3",
   "language": "python",
   "name": "python3"
  },
  "language_info": {
   "codemirror_mode": {
    "name": "ipython",
    "version": 3
   },
   "file_extension": ".py",
   "mimetype": "text/x-python",
   "name": "python",
   "nbconvert_exporter": "python",
   "pygments_lexer": "ipython3",
   "version": "3.7.0"
  }
 },
 "nbformat": 4,
 "nbformat_minor": 2
}
