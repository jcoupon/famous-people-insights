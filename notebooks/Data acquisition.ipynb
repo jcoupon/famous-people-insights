{
 "cells": [
  {
   "cell_type": "markdown",
   "metadata": {},
   "source": [
    "# Data acquisition"
   ]
  },
  {
   "cell_type": "markdown",
   "metadata": {},
   "source": [
    "## Preamble"
   ]
  },
  {
   "cell_type": "code",
   "execution_count": 427,
   "metadata": {},
   "outputs": [],
   "source": [
    "import os\n",
    "import sys\n",
    "from importlib import reload\n",
    "\n",
    "import wikipedia\n",
    "import selenium\n",
    "import time\n",
    "import urllib\n",
    "import pycountry\n",
    "import re\n",
    "from datetime import date\n",
    "from bs4 import BeautifulSoup\n",
    "\n",
    "# add ./python to python path\n",
    "sys.path.insert(0, '../python')\n",
    "\n",
    "import data_acquisition"
   ]
  },
  {
   "cell_type": "markdown",
   "metadata": {},
   "source": [
    "## Person object"
   ]
  },
  {
   "cell_type": "code",
   "execution_count": 513,
   "metadata": {},
   "outputs": [],
   "source": [
    "# launch web driver with window\n",
    "# to control behavior\n",
    "driver = data_acquisition.launch_browser_driver(headless=False)"
   ]
  },
  {
   "cell_type": "code",
   "execution_count": 575,
   "metadata": {},
   "outputs": [
    {
     "name": "stdout",
     "output_type": "stream",
     "text": [
      "firstname : Emmanuel\n",
      "lastname : Macron\n",
      "middlename : None\n",
      "nationality : None\n",
      "domicile : None\n",
      "birth_date : None\n",
      "famous : None\n",
      "famous_comment : None\n",
      "profession : None\n",
      "wealth : None\n",
      "info : None\n"
     ]
    }
   ],
   "source": [
    "reload(data_acquisition)\n",
    "# person = data_acquisition.Person('Bernard', 'Arnault', driver=driver)\n",
    "person = data_acquisition.Person('Emmanuel', 'Macron', driver=driver)\n",
    "person.print_info()"
   ]
  },
  {
   "cell_type": "markdown",
   "metadata": {},
   "source": [
    "## Summary"
   ]
  },
  {
   "cell_type": "code",
   "execution_count": null,
   "metadata": {},
   "outputs": [],
   "source": [
    "# place here final code"
   ]
  },
  {
   "cell_type": "markdown",
   "metadata": {},
   "source": [
    "## Forbes"
   ]
  },
  {
   "cell_type": "markdown",
   "metadata": {},
   "source": [
    "### Usage"
   ]
  },
  {
   "cell_type": "code",
   "execution_count": 576,
   "metadata": {},
   "outputs": [
    {
     "name": "stdout",
     "output_type": "stream",
     "text": [
      "Crawling Forbes.com: start.\n",
      "Crawling: retrying...1/5\n",
      "Crawling: retrying...2/5\n",
      "Crawling: retrying...3/5\n",
      "Crawling: retrying...4/5\n",
      "Crawling: retrying...5/5\n",
      "The Forbes.com crawling failed. The person might not exist in the billionaires ranking. Or if you suspect this is a crawling issue, rerun with 'headless'=False to debug.\n",
      "Crawling Forbes.com: start.\n",
      "Crawling Forbes.com: the person was found. Extracting info...\n",
      "Crawling Forbes.com: end\n"
     ]
    }
   ],
   "source": [
    "person.get_info_from_Forbes()"
   ]
  },
  {
   "cell_type": "code",
   "execution_count": 577,
   "metadata": {},
   "outputs": [
    {
     "name": "stdout",
     "output_type": "stream",
     "text": [
      "firstname : Emmanuel\n",
      "lastname : Macron\n",
      "middlename : None\n",
      "nationality : FRA\n",
      "domicile : None\n",
      "birth_date : 1978\n",
      "famous : None\n",
      "famous_comment : None\n",
      "profession : None\n",
      "wealth : None\n",
      "info : Macron is at the helm of Europe's third largest economy after winning a landslide victory in the 2017 election against populist Marine Le Pen.\n",
      "In an interview with Forbes in April, Macron announced he intends to scrap the 30 percent tax on people who try to take their money out of France.\n",
      "Prior to becoming the President, Macron worked as an investment banker for Rothschild & Cie Banque in Paris and was the country's economy minister.\n",
      "In September 2017 Macron signed into law several controversial labor reforms which allow companies more freedom when hiring and firing employees.\n",
      "Macron took a firm stance after Trump announced U.S. will leave the Paris climate accord, noting that the agreement will not be renegotiated.\n"
     ]
    }
   ],
   "source": [
    "person.print_info()"
   ]
  },
  {
   "cell_type": "markdown",
   "metadata": {},
   "source": [
    "### Tests"
   ]
  },
  {
   "cell_type": "code",
   "execution_count": 555,
   "metadata": {},
   "outputs": [
    {
     "name": "stdout",
     "output_type": "stream",
     "text": [
      "Crawling Forbes.com: start.\n",
      "Crawling: retrying...1/5\n",
      "Crawling Forbes.com: the person was found. Extracting info...\n",
      "Crawling Forbes.com: end\n",
      "{'nationality': 'USA', 'domicile': 'USA', 'birth_date': 1964, 'wealth': 125800.0, 'info': \"Amazon's chief Jeff Bezos is the first person with a net worth surpassing $150 billion in the 3 decades that Forbes has tracked the richest Americans.\\nHe owns 16% of e-commerce colossus Amazon, which he founded in a garage in Seattle in 1994.\\nBezos attended Princeton and worked at a hedge fund before quitting to sell books online.\\nHis other passion is space travel: His aerospace company, Blue Origin, is developing a reusable rocket that Bezos says will carry passengers.\\nBezos purchased The Washington Post in 2013 for $250 million.\\nIn Sept. 2018 he announced the Bezos Day One Fund, a $2 billion pledge to help homeless families and create Montessori-inspired preschools in the U.S.\"}\n"
     ]
    }
   ],
   "source": [
    "reload(data_acquisition)\n",
    "result = data_acquisition.crawl_Forbes(driver, 'Jeff Bezos')\n",
    "print(result)"
   ]
  },
  {
   "cell_type": "code",
   "execution_count": 564,
   "metadata": {},
   "outputs": [
    {
     "data": {
      "text/plain": [
       "1949"
      ]
     },
     "execution_count": 564,
     "metadata": {},
     "output_type": "execute_result"
    }
   ],
   "source": [
    "birth_date = date.today().year - age\n",
    "birth_date"
   ]
  },
  {
   "cell_type": "markdown",
   "metadata": {},
   "source": [
    "## Wikipedia"
   ]
  },
  {
   "cell_type": "markdown",
   "metadata": {},
   "source": [
    "### Usage"
   ]
  },
  {
   "cell_type": "code",
   "execution_count": 764,
   "metadata": {},
   "outputs": [],
   "source": [
    "reload(data_acquisition)\n",
    "# person = data_acquisition.Person('Bernard', 'Arnault', driver=driver)\n",
    "person = data_acquisition.Person('Emmanuel', 'Macron', driver=driver)\n",
    "# person.print_info()"
   ]
  },
  {
   "cell_type": "code",
   "execution_count": 762,
   "metadata": {},
   "outputs": [],
   "source": [
    "person.get_info_from_Wikipedia()"
   ]
  },
  {
   "cell_type": "code",
   "execution_count": 763,
   "metadata": {},
   "outputs": [
    {
     "name": "stdout",
     "output_type": "stream",
     "text": [
      "firstname : Emmanuel\n",
      "lastname : Macron\n",
      "middlename : Jean-Michel Frédéric \n",
      "nationality : None\n",
      "domicile : None\n",
      "birth_date : 1977-12-21\n",
      "famous : None\n",
      "famous_comment : None\n",
      "profession : None\n",
      "wealth : None\n",
      "info : Emmanuel Jean-Michel Frédéric Macron (French pronunciation: ​[ɛmanɥɛl makʁɔ̃]; born 21 December 1977) is a French politician currently serving as President of France since 14 May 2017. He previously served as a Minister of the Economy, Industry and Digital Affairs from 2014 to 2016.\n",
      "Macron was born in Amiens and studied philosophy at Paris Nanterre University, completed a Master's of Public Affairs at Sciences Po and graduated from the École nationale d'administration (ENA) in 2004. He worked as a senior civil servant at the Inspectorate General of Finances and later became an investment banker at Rothschild & Cie Banque.\n",
      "Macron was appointed Deputy Secretary General to the President by François Hollande in May 2012. He was appointed Minister of Economy, Industry and Digital Affairs in August 2014 under the Second Valls government, where he pushed through business-friendly reforms. He resigned in August 2016 to launch a bid in the 2017 presidential election. After being a member of the Socialist Party from 2006 to 2009, Macron ran in the election under the banner of a centrist political movement he founded in April that year, En marche.\n",
      "He won the election on 7 May 2017 with 66.1% of the vote in the second round. At age 39, Macron became the youngest President of France in history and appointed Édouard Philippe to be Prime Minister. In the June 2017 legislative elections, Macron's party, renamed \"La République en marche\" (LREM), together with its ally the Democratic Movement (MoDem), secured a majority in the National Assembly.\n"
     ]
    }
   ],
   "source": [
    "person.print_info()"
   ]
  },
  {
   "cell_type": "markdown",
   "metadata": {},
   "source": [
    "### Tests"
   ]
  },
  {
   "cell_type": "code",
   "execution_count": 760,
   "metadata": {},
   "outputs": [],
   "source": [
    "search_str = 'Emmanuel Macron'\n",
    "person_page = wikipedia.page(search_str)\n",
    "soup = BeautifulSoup(person_page.html(), \"html.parser\")\n",
    "# soup"
   ]
  },
  {
   "cell_type": "code",
   "execution_count": 756,
   "metadata": {},
   "outputs": [
    {
     "data": {
      "text/plain": [
       "'Jean-Michel Frédéric '"
      ]
     },
     "execution_count": 756,
     "metadata": {},
     "output_type": "execute_result"
    }
   ],
   "source": [
    "re.findall(r'(?:{0}\\s+)((\\S+\\s+){{1,4}})(?:{1})'.format('Emmanuel', 'Macron'), soup.text)[0][0]   #[0].split(' ')[1]"
   ]
  },
  {
   "cell_type": "code",
   "execution_count": 767,
   "metadata": {},
   "outputs": [
    {
     "name": "stdout",
     "output_type": "stream",
     "text": [
      "firstname : Jean\n",
      "lastname : Coupon\n",
      "middlename : None\n",
      "nationality : None\n",
      "domicile : None\n",
      "birth_date : None\n",
      "famous : None\n",
      "famous_comment : None\n",
      "profession : None\n",
      "wealth : None\n",
      "info : None\n"
     ]
    }
   ],
   "source": [
    "# unknown person\n",
    "reload(data_acquisition)\n",
    "person = data_acquisition.Person('Jean', 'Coupon', driver=driver)\n",
    "person.get_info_from_Wikipedia()\n",
    "person.print_info()"
   ]
  },
  {
   "cell_type": "markdown",
   "metadata": {},
   "source": [
    "## LinkedIn"
   ]
  },
  {
   "cell_type": "markdown",
   "metadata": {},
   "source": [
    "### Usage"
   ]
  },
  {
   "cell_type": "code",
   "execution_count": 872,
   "metadata": {},
   "outputs": [],
   "source": [
    "reload(data_acquisition)\n",
    "person = data_acquisition.Person('Jean', 'Coupon', driver=driver)\n",
    "# person.print_info()"
   ]
  },
  {
   "cell_type": "code",
   "execution_count": 873,
   "metadata": {},
   "outputs": [],
   "source": [
    "person.get_info_from_LinkedIn()"
   ]
  },
  {
   "cell_type": "code",
   "execution_count": 874,
   "metadata": {},
   "outputs": [
    {
     "name": "stdout",
     "output_type": "stream",
     "text": [
      "firstname : Jean\n",
      "lastname : Coupon\n",
      "middlename : None\n",
      "nationality : None\n",
      "domicile : CHE\n",
      "birth_date : None\n",
      "famous : None\n",
      "famous_comment : None\n",
      "profession : Data Scientist,Research Associate,Postdoctoral Researcher\n",
      "wealth : None\n",
      "info : None\n",
      "linkedin_followers : 1255\n"
     ]
    }
   ],
   "source": [
    "person.print_info()"
   ]
  },
  {
   "cell_type": "markdown",
   "metadata": {},
   "source": [
    "### Tests"
   ]
  },
  {
   "cell_type": "code",
   "execution_count": 847,
   "metadata": {},
   "outputs": [
    {
     "data": {
      "text/plain": [
       "{'profession': 'Consultant//Consultant//IT system Architect'}"
      ]
     },
     "execution_count": 847,
     "metadata": {},
     "output_type": "execute_result"
    }
   ],
   "source": [
    "reload(data_acquisition)\n",
    "result = data_acquisition.crawl_linkedin(driver, 'Jean Coupon')\n",
    "result"
   ]
  },
  {
   "cell_type": "code",
   "execution_count": 839,
   "metadata": {
    "scrolled": true
   },
   "outputs": [
    {
     "data": {
      "text/plain": [
       "[]"
      ]
     },
     "execution_count": 839,
     "metadata": {},
     "output_type": "execute_result"
    }
   ],
   "source": [
    "driver.find_elements_by_xpath( \"//ul[@class='pv-profile-section__section-info section-info pv-profile-section__section-info--has-more']//h3\")"
   ]
  },
  {
   "cell_type": "code",
   "execution_count": 860,
   "metadata": {},
   "outputs": [
    {
     "data": {
      "text/plain": [
       "' France'"
      ]
     },
     "execution_count": 860,
     "metadata": {},
     "output_type": "execute_result"
    }
   ],
   "source": [
    "country_name = data_acquisition.persistent_find(driver, '//h3').split(',')[-1][1:]\n",
    "result['domicile'] = pycountry.countries.get(name = country_name).alpha_3\n",
    "\n",
    "country"
   ]
  },
  {
   "cell_type": "code",
   "execution_count": 861,
   "metadata": {},
   "outputs": [
    {
     "data": {
      "text/plain": [
       "'CHE'"
      ]
     },
     "execution_count": 861,
     "metadata": {},
     "output_type": "execute_result"
    }
   ],
   "source": [
    "result['domicile']"
   ]
  },
  {
   "cell_type": "markdown",
   "metadata": {},
   "source": [
    "## Twitter"
   ]
  },
  {
   "cell_type": "markdown",
   "metadata": {},
   "source": [
    "### Usage"
   ]
  },
  {
   "cell_type": "markdown",
   "metadata": {},
   "source": [
    "### Tests"
   ]
  }
 ],
 "metadata": {
  "kernelspec": {
   "display_name": "Python 3",
   "language": "python",
   "name": "python3"
  },
  "language_info": {
   "codemirror_mode": {
    "name": "ipython",
    "version": 3
   },
   "file_extension": ".py",
   "mimetype": "text/x-python",
   "name": "python",
   "nbconvert_exporter": "python",
   "pygments_lexer": "ipython3",
   "version": "3.7.0"
  }
 },
 "nbformat": 4,
 "nbformat_minor": 2
}
